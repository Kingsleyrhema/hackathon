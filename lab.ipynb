{
 "cells": [
  {
   "cell_type": "code",
   "execution_count": null,
   "metadata": {},
   "outputs": [],
   "source": [
    "import os\n",
    "os.environ['REPLICATE_API_TOKEN'] = \"r8_OtEsu2Y5JLnt5BtbKMp7ZMoYDgGEowH2y7k71\""
   ]
  },
  {
   "cell_type": "code",
   "execution_count": null,
   "metadata": {},
   "outputs": [],
   "source": [
    "import replicate\n",
    "#prompt\n",
    "pre_prompt = 'You are a helpful Assistant who will always generate a more detailed description of \"fictional characters\" that will be fed to a \"text to image AI for image generation\"'\n",
    "prompt_input = \"segun is an african boy traditional boy who live in who has an Afro hair, he is dark in skin color\"\n",
    "\n",
    "#GENERATE LLM response\n",
    "output = replicate.run(\"replicate/llama-2-70b-chat:2796ee9483c3fd7aa2e171d38f4ca12251a30609463dcfd4cd76703f22e96cdf\",\n",
    "                       input={\n",
    "                           \"prompt\": f'{pre_prompt} {prompt_input} Assistant: ',\n",
    "                           \"temperature\":0.1,\"top_p\":0.9,\"max_length\":128,\"repetition_penalty\":1\n",
    "                       }\n",
    "                       )\n",
    "\n",
    "full_response = ''\n",
    "for item in output:\n",
    "    full_response += item\n",
    "print(full_response)"
   ]
  },
  {
   "cell_type": "code",
   "execution_count": null,
   "metadata": {},
   "outputs": [],
   "source": [
    "import replicate\n",
    "from IPython.display import Image\n",
    "pic = replicate.run(\n",
    "  \"stability-ai/sdxl:d830ba5dabf8090ec0db6c10fc862c6eb1c929e1a194a5411852d25fd954ac82\",\n",
    "  input={\"prompt\": \" An oil painting of 'Segun is a young African boy who hails from a traditional background. He has a strong sense of culture and heritage, which is reflected in his appearance and demeanor. His hair is styled in a neat Afro, which is a symbol of his cultural identity and pride. His skin is a deep, rich brown, a testament to his African ancestry.Segun's facial features are striking, with high cheekbones and a sharp jawline that gives him' by Leonardo da Vinci and Frederic Edwin Church\"}\n",
    ")\n",
    "print(pic)\n",
    "# ['https://replicate.com/api/models/stability-ai/stable-diffusion/files/50fcac81-865d-499e-81ac-49de0cb79264/out-0.png']"
   ]
  }
 ],
 "metadata": {
  "language_info": {
   "name": "python"
  },
  "orig_nbformat": 4
 },
 "nbformat": 4,
 "nbformat_minor": 2
}
